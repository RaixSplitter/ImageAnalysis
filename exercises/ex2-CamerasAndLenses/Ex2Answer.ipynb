{
 "cells": [
  {
   "cell_type": "code",
   "execution_count": 1,
   "metadata": {},
   "outputs": [],
   "source": [
    "import math\n",
    "from sympy import Symbol, solve, Eq"
   ]
  },
  {
   "cell_type": "markdown",
   "metadata": {},
   "source": [
    "### EX. 1: The use of ATAN"
   ]
  },
  {
   "cell_type": "code",
   "execution_count": 2,
   "metadata": {},
   "outputs": [
    {
     "data": {
      "text/plain": [
       "0.2914567944778671"
      ]
     },
     "execution_count": 2,
     "metadata": {},
     "output_type": "execute_result"
    }
   ],
   "source": [
    "# math.atan2(y, x)\n",
    "# tan(theta) = y/x\n",
    "# returns theta in radians\n",
    "a = x = 10\n",
    "b = y = 3\n",
    "math.atan2(b, a)\n",
    "math.atan2(y, x)"
   ]
  },
  {
   "cell_type": "code",
   "execution_count": 3,
   "metadata": {},
   "outputs": [],
   "source": [
    "def camera_b_distance(g, f):\n",
    "    \n",
    "    \"\"\"\n",
    "    camera_b_distance returns the distance (b) where the CCD should be placed\n",
    "    when the object distance (g) and the focal length (f) are given\n",
    "    :param f: Focal length\n",
    "    :param g: Object distance\n",
    "    :return: b, the distance where the CCD should be placed\n",
    "    Using gauss lens equation\n",
    "    1/g + 1/b = 1/f\n",
    "    \"\"\"\n",
    "    return -(f * g) / (f - g)\n",
    "\n",
    "def camera_distance(g : float = Symbol('g'), b : float =  Symbol('b'), f : float = Symbol('f')):\n",
    "    eq = Eq(1/g + 1/b, 1/f)\n",
    "    return solve(eq , dict=True)\n",
    "\n",
    "def camera_ratio(b = Symbol('b'), g = Symbol('g'), B = Symbol('B'), G = Symbol('G')):\n",
    "    eq = Eq(b/B, g/G)\n",
    "    return solve(eq, dict=True)\n"
   ]
  },
  {
   "cell_type": "code",
   "execution_count": 4,
   "metadata": {},
   "outputs": [
    {
     "name": "stdout",
     "output_type": "stream",
     "text": [
      "[{b: 0.0176470588235294}]\n",
      "[{b: 0.0152284263959391}]\n",
      "[{b: 0.0151515151515152}]\n",
      "[{b: 0.0150150150150150}]\n"
     ]
    }
   ],
   "source": [
    "print(camera_distance(g = 0.1, f = 0.015))\n",
    "print(camera_distance(g = 1, f = 0.015))\n",
    "print(camera_distance(g = 1.5, f = 0.015))\n",
    "print(camera_distance(g = 15, f = 0.015))"
   ]
  },
  {
   "cell_type": "markdown",
   "metadata": {},
   "source": [
    "# A\\) \n",
    "b = 0.005, 5 mm, the distance between lens and the optimal image is 5 mm"
   ]
  },
  {
   "cell_type": "code",
   "execution_count": 5,
   "metadata": {},
   "outputs": [
    {
     "data": {
      "text/plain": [
       "[{b: 0.00500500500500500}]"
      ]
     },
     "execution_count": 5,
     "metadata": {},
     "output_type": "execute_result"
    }
   ],
   "source": [
    "camera_distance(g = 5, f = 0.005)"
   ]
  },
  {
   "cell_type": "markdown",
   "metadata": {},
   "source": [
    "## B) C) D)\n",
    "Thomas height is 1.8 m, and in the camera he will be 0.0018 m tall, which is 1.8 mm, that translates to 180 pixels heigh on the image. Since 1 pixel is 0.01 mm and with a 4.8 mm heigh ccd-chip, the image will be 480 pixels high."
   ]
  },
  {
   "cell_type": "code",
   "execution_count": 6,
   "metadata": {},
   "outputs": [
    {
     "data": {
      "text/plain": [
       "[{B: 0.00180000000000000}]"
      ]
     },
     "execution_count": 6,
     "metadata": {},
     "output_type": "execute_result"
    }
   ],
   "source": [
    "camera_ratio(g = 5, G = 1.8, b = 0.005)"
   ]
  },
  {
   "cell_type": "code",
   "execution_count": 7,
   "metadata": {},
   "outputs": [
    {
     "data": {
      "text/plain": [
       "180.0"
      ]
     },
     "execution_count": 7,
     "metadata": {},
     "output_type": "execute_result"
    }
   ],
   "source": [
    "1.8 * 100"
   ]
  },
  {
   "cell_type": "markdown",
   "metadata": {},
   "source": [
    "## D)\n",
    "\n",
    "The FOV can be found by the CCD chip size and the distance between the lens and the ccd chip"
   ]
  },
  {
   "cell_type": "code",
   "execution_count": 8,
   "metadata": {},
   "outputs": [],
   "source": [
    "fov_horizontal = 2 * math.atan(6.4 / 5)\n",
    "fov_vertical = 2 * math.atan(4.8 / 5)"
   ]
  },
  {
   "cell_type": "code",
   "execution_count": 9,
   "metadata": {},
   "outputs": [
    {
     "name": "stdout",
     "output_type": "stream",
     "text": [
      "104.00253511499068\n",
      "87.66172134418517\n"
     ]
    }
   ],
   "source": [
    "print(math.degrees(fov_horizontal))\n",
    "print(math.degrees(fov_vertical))"
   ]
  },
  {
   "cell_type": "code",
   "execution_count": null,
   "metadata": {},
   "outputs": [],
   "source": []
  }
 ],
 "metadata": {
  "kernelspec": {
   "display_name": ".env",
   "language": "python",
   "name": "python3"
  },
  "language_info": {
   "codemirror_mode": {
    "name": "ipython",
    "version": 3
   },
   "file_extension": ".py",
   "mimetype": "text/x-python",
   "name": "python",
   "nbconvert_exporter": "python",
   "pygments_lexer": "ipython3",
   "version": "3.10.11"
  },
  "orig_nbformat": 4
 },
 "nbformat": 4,
 "nbformat_minor": 2
}
